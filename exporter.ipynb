{
 "cells": [
  {
   "cell_type": "markdown",
   "id": "2c6613b0-756e-4aa3-b423-3169d92f96db",
   "metadata": {},
   "source": [
    "Please visit https://demo.conductor.faims.edu.au, login, and scroll to the bottom with the box that says: `Need Bearer Token for Exporting Data?\n",
    "`. Click \"Copy Bearer Token to Clipboard\" and paste it"
   ]
  },
  {
   "cell_type": "code",
   "execution_count": 1,
   "id": "e7199e46-36d2-430b-a360-0291fc6cfeab",
   "metadata": {
    "tags": []
   },
   "outputs": [
    {
     "data": {
      "application/vnd.jupyter.widget-view+json": {
       "model_id": "b9abeaaaad6e404aa2100872c3e26ead",
       "version_major": 2,
       "version_minor": 0
      },
      "text/plain": [
       "Button(description='Show bearer token text field', layout=Layout(display='none'), style=ButtonStyle())"
      ]
     },
     "metadata": {},
     "output_type": "display_data"
    },
    {
     "data": {
      "application/vnd.jupyter.widget-view+json": {
       "model_id": "d8d1acf0a50043faa531d2b2a3601761",
       "version_major": 2,
       "version_minor": 0
      },
      "text/plain": [
       "Text(value='eyJqd3RfdG9rZW4iOiJleUpoYkdjaU9pSlNVekkxTmlJc0ltdHBaQ0k2SW5SbGMzUnBibWNpZlEuZXlKZlkyOTFZMmhrWWk1eW…"
      ]
     },
     "metadata": {},
     "output_type": "display_data"
    },
    {
     "data": {
      "application/vnd.jupyter.widget-view+json": {
       "model_id": "54bd0f0a6dad4920832b4810602a6b4b",
       "version_major": 2,
       "version_minor": 0
      },
      "text/plain": [
       "Button(description='Validate Bearer Token', icon='check', layout=Layout(height='50px', width='20%'), style=But…"
      ]
     },
     "metadata": {},
     "output_type": "display_data"
    },
    {
     "data": {
      "application/vnd.jupyter.widget-view+json": {
       "model_id": "6a138dd40994472b8e7f2f0eb03f03ab",
       "version_major": 2,
       "version_minor": 0
      },
      "text/plain": [
       "Output(layout=Layout(border_bottom='0px solid black', border_left='0px solid black', border_right='0px solid b…"
      ]
     },
     "metadata": {},
     "output_type": "display_data"
    }
   ],
   "source": [
    "import interface\n",
    "interface.make_interface()\n"
   ]
  },
  {
   "cell_type": "code",
   "execution_count": null,
   "id": "18b645c4-b1df-43f0-87dd-acbd1596c2af",
   "metadata": {
    "tags": []
   },
   "outputs": [],
   "source": []
  }
 ],
 "metadata": {
  "kernelspec": {
   "display_name": "Python 3 (ipykernel)",
   "language": "python",
   "name": "python3"
  },
  "language_info": {
   "codemirror_mode": {
    "name": "ipython",
    "version": 3
   },
   "file_extension": ".py",
   "mimetype": "text/x-python",
   "name": "python",
   "nbconvert_exporter": "python",
   "pygments_lexer": "ipython3",
   "version": "3.10.4"
  }
 },
 "nbformat": 4,
 "nbformat_minor": 5
}
