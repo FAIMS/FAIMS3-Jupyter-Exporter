{
 "cells": [
  {
   "cell_type": "markdown",
   "id": "2c6613b0-756e-4aa3-b423-3169d92f96db",
   "metadata": {},
   "source": [
    "Please visit https://demo.conductor.faims.edu.au, login, and scroll to the bottom with the box that says: `Need Bearer Token for Exporting Data?\n",
    "`. Click \"Copy Bearer Token to Clipboard\" and paste it"
   ]
  },
  {
   "cell_type": "code",
   "execution_count": 8,
   "id": "cb7871ff",
   "metadata": {},
   "outputs": [],
   "source": [
    "# Parameters:\n",
    "bearer_token_get = \"\""
   ]
  },
  {
   "cell_type": "code",
   "execution_count": 12,
   "id": "e7199e46-36d2-430b-a360-0291fc6cfeab",
   "metadata": {
    "tags": []
   },
   "outputs": [
    {
     "data": {
      "application/vnd.jupyter.widget-view+json": {
       "model_id": "27f59521de4a4c55b6bd18a868b56d3b",
       "version_major": 2,
       "version_minor": 0
      },
      "text/plain": [
       "Button(description='Show bearer token text field', layout=Layout(display='none'), style=ButtonStyle())"
      ]
     },
     "metadata": {},
     "output_type": "display_data"
    },
    {
     "data": {
      "application/vnd.jupyter.widget-view+json": {
       "model_id": "a4caa031c7004d168d29b160aa48fc30",
       "version_major": 2,
       "version_minor": 0
      },
      "text/plain": [
       "Text(value='', description='Bearer Token:', layout=Layout(display='block'), placeholder='', style=TextStyle(de…"
      ]
     },
     "metadata": {},
     "output_type": "display_data"
    },
    {
     "data": {
      "application/vnd.jupyter.widget-view+json": {
       "model_id": "433c485241c146f29826adc2cf252e40",
       "version_major": 2,
       "version_minor": 0
      },
      "text/plain": [
       "Button(description='Validate Bearer Token', icon='check', layout=Layout(height='50px', width='20%'), style=But…"
      ]
     },
     "metadata": {},
     "output_type": "display_data"
    },
    {
     "data": {
      "application/vnd.jupyter.widget-view+json": {
       "model_id": "071cb7a9f1f7440db1e3a7fd4e6e6f21",
       "version_major": 2,
       "version_minor": 0
      },
      "text/plain": [
       "Output(layout=Layout(border_bottom='0px solid black', border_left='0px solid black', border_right='0px solid b…"
      ]
     },
     "metadata": {},
     "output_type": "display_data"
    }
   ],
   "source": [
    "import interface\n",
    "interface.make_interface()\n",
    "interface.bearer_token.value=str(bearer_token_get) or \"\""
   ]
  },
  {
   "cell_type": "code",
   "execution_count": null,
   "id": "18b645c4-b1df-43f0-87dd-acbd1596c2af",
   "metadata": {
    "tags": []
   },
   "outputs": [],
   "source": []
  }
 ],
 "metadata": {
  "kernelspec": {
   "display_name": "Python 3 (ipykernel)",
   "language": "python",
   "name": "python3"
  },
  "language_info": {
   "codemirror_mode": {
    "name": "ipython",
    "version": 3
   },
   "file_extension": ".py",
   "mimetype": "text/x-python",
   "name": "python",
   "nbconvert_exporter": "python",
   "pygments_lexer": "ipython3",
   "version": "3.10.4"
  }
 },
 "nbformat": 4,
 "nbformat_minor": 5
}
