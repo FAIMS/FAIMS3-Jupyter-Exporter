{
 "cells": [
  {
   "cell_type": "markdown",
   "id": "2c6613b0-756e-4aa3-b423-3169d92f96db",
   "metadata": {},
   "source": [
    "* First visit https://demo.3.faims.edu.au and login. Once you see your workspaces,\n",
    "* Please visit https://demo.conductor.faims.edu.au, login, and scroll to the bottom with the box that says: \"Need Bearer Token for Exporting Data?\". \n",
    "* Click \"Copy Bearer Token to Clipboard\" and paste it (Or click show bearer token and manually copy on Firefox)"
   ]
  },
  {
   "cell_type": "code",
   "execution_count": 2,
   "id": "e7199e46-36d2-430b-a360-0291fc6cfeab",
   "metadata": {
    "tags": []
   },
   "outputs": [
    {
     "data": {
      "application/vnd.jupyter.widget-view+json": {
       "model_id": "8531d54d4b694bdab4e12c7dede65931",
       "version_major": 2,
       "version_minor": 0
      },
      "text/plain": [
       "Button(description='Show bearer token text field', layout=Layout(display='none'), style=ButtonStyle())"
      ]
     },
     "metadata": {},
     "output_type": "display_data"
    },
    {
     "data": {
      "application/vnd.jupyter.widget-view+json": {
       "model_id": "ff25d38a7c964d78a0914d1dda31d1d5",
       "version_major": 2,
       "version_minor": 0
      },
      "text/plain": [
       "Text(value='', description='Bearer Token:', placeholder='', style=TextStyle(description_width='initial'))"
      ]
     },
     "metadata": {},
     "output_type": "display_data"
    },
    {
     "data": {
      "application/vnd.jupyter.widget-view+json": {
       "model_id": "fb9a59ef4b064e29af5c947187eb2e71",
       "version_major": 2,
       "version_minor": 0
      },
      "text/plain": [
       "Button(description='Validate Bearer Token', icon='check', layout=Layout(height='50px', width='20%'), style=But…"
      ]
     },
     "metadata": {},
     "output_type": "display_data"
    },
    {
     "data": {
      "application/vnd.jupyter.widget-view+json": {
       "model_id": "0bc8b2eadd6f45c5b88425417dbffb09",
       "version_major": 2,
       "version_minor": 0
      },
      "text/plain": [
       "Output(layout=Layout(border_bottom='0px solid black', border_left='0px solid black', border_right='0px solid b…"
      ]
     },
     "metadata": {},
     "output_type": "display_data"
    }
   ],
   "source": [
    "import os\n",
    "from urllib.parse import parse_qs\n",
    "#https://github.com/voila-dashboards/voila/blob/main/notebooks/query-strings.ipynb\n",
    "import interface\n",
    "\n",
    "from dotenv import dotenv_values\n",
    "\n",
    "config = dotenv_values(\".env\")  # config = {\"USER\": \"foo\", \"EMAIL\": \"foo@example.org\"}\n",
    "\n",
    "interface.make_interface()\n",
    "try:    \n",
    "    query_string = os.environ.get('QUERY_STRING', '')\n",
    "    parameters = parse_qs(query_string)\n",
    "    token = parameters.get(\"bearer_token_get\",[\"\"])[0] or os.getenv(\"TOKEN\") or config.get(\"TOKEN\", \"\")\n",
    "    interface.bearer_token.value=token\n",
    "except:\n",
    "    print(parameters)\n",
    "    "
   ]
  },
  {
   "cell_type": "code",
   "execution_count": null,
   "id": "18b645c4-b1df-43f0-87dd-acbd1596c2af",
   "metadata": {
    "tags": []
   },
   "outputs": [],
   "source": []
  }
 ],
 "metadata": {
  "kernelspec": {
   "display_name": "Python 3 (ipykernel)",
   "language": "python",
   "name": "python3"
  },
  "language_info": {
   "codemirror_mode": {
    "name": "ipython",
    "version": 3
   },
   "file_extension": ".py",
   "mimetype": "text/x-python",
   "name": "python",
   "nbconvert_exporter": "python",
   "pygments_lexer": "ipython3",
   "version": "3.10.4"
  }
 },
 "nbformat": 4,
 "nbformat_minor": 5
}
