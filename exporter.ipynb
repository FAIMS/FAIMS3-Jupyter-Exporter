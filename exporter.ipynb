{
 "cells": [
  {
   "cell_type": "markdown",
   "id": "2c6613b0-756e-4aa3-b423-3169d92f96db",
   "metadata": {},
   "source": [
    "* First visit https://demo.3.faims.edu.au and login. Once you see your workspaces,\n",
    "* Please visit https://demo.conductor.faims.edu.au, login, and scroll to the bottom with the box that says: \"Need Bearer Token for Exporting Data?\". \n",
    "* Click \"Copy Bearer Token to Clipboard\" and paste it (Or click show bearer token and manually copy on Firefox)"
   ]
  },
  {
   "cell_type": "code",
   "execution_count": 1,
   "id": "e7199e46-36d2-430b-a360-0291fc6cfeab",
   "metadata": {
    "tags": []
   },
   "outputs": [
    {
     "data": {
      "text/html": [
       "<details><summary>Debug Variables</summary><ul><li><pre>SHELL: /bin/bash</pre></li> <li><pre>SESSION_MANAGER: local/foa1602019:@/tmp/.ICE-unix/2578,unix/foa1602019:/tmp/.ICE-unix/2578</pre></li> <li><pre>QT_ACCESSIBILITY: 1</pre></li> <li><pre>COLORTERM: truecolor</pre></li> <li><pre>PYENV_SHELL: bash</pre></li> <li><pre>XDG_CONFIG_DIRS: /etc/xdg/xdg-ubuntu:/etc/xdg</pre></li> <li><pre>SSH_AGENT_LAUNCHER: gnome-keyring</pre></li> <li><pre>NVM_INC: /home/brian/.nvm/versions/node/v18.15.0/include/node</pre></li> <li><pre>XDG_MENU_PREFIX: gnome-</pre></li> <li><pre>GNOME_DESKTOP_SESSION_ID: this-is-deprecated</pre></li> <li><pre>GTK_IM_MODULE: fcitx</pre></li> <li><pre>CONDA_EXE: /home/brian/miniconda3/bin/conda</pre></li> <li><pre>_CE_M: </pre></li> <li><pre>TEXROOT: /opt/context/tex</pre></li> <li><pre>LANGUAGE: en_AU:en</pre></li> <li><pre>GNOME_SHELL_SESSION_MODE: ubuntu</pre></li> <li><pre>SSH_AUTH_SOCK: /run/user/1000/keyring/ssh</pre></li> <li><pre>DIRENV_DIR: -/home/brian/FAIMS/3/FAIMS3-Jupyter-Exporter</pre></li> <li><pre>PL_API_KEY: 1de404adaa4c4876a192a7442540bcaf</pre></li> <li><pre>XMODIFIERS: @im=fcitx</pre></li> <li><pre>DESKTOP_SESSION: ubuntu</pre></li> <li><pre>RBENV_SHELL: bash</pre></li> <li><pre>PYENV_VERSION: 3.10.4</pre></li> <li><pre>GTK_MODULES: gail:atk-bridge</pre></li> <li><pre>PWD: /home/brian/FAIMS/3/FAIMS3-Jupyter-Exporter</pre></li> <li><pre>LOGNAME: brian</pre></li> <li><pre>XDG_SESSION_DESKTOP: ubuntu</pre></li> <li><pre>XDG_SESSION_TYPE: x11</pre></li> <li><pre>PNPM_HOME: /home/brian/.local/share/pnpm</pre></li> <li><pre>GPG_AGENT_INFO: /run/user/1000/gnupg/S.gpg-agent:0:1</pre></li> <li><pre>SYSTEMD_EXEC_PID: 2938</pre></li> <li><pre>XAUTHORITY: /run/user/1000/gdm/Xauthority</pre></li> <li><pre>WINDOWPATH: 2</pre></li> <li><pre>HOME: /home/brian</pre></li> <li><pre>USERNAME: brian</pre></li> <li><pre>IM_CONFIG_PHASE: 1</pre></li> <li><pre>LANG: en_AU.UTF-8</pre></li> <li><pre>LS_COLORS: rs=0:di=01;34:ln=01;36:mh=00:pi=40;33:so=01;35:do=01;35:bd=40;33;01:cd=40;33;01:or=40;31;01:mi=00:su=37;41:sg=30;43:ca=30;41:tw=30;42:ow=34;42:st=37;44:ex=01;32:*.tar=01;31:*.tgz=01;31:*.arc=01;31:*.arj=01;31:*.taz=01;31:*.lha=01;31:*.lz4=01;31:*.lzh=01;31:*.lzma=01;31:*.tlz=01;31:*.txz=01;31:*.tzo=01;31:*.t7z=01;31:*.zip=01;31:*.z=01;31:*.dz=01;31:*.gz=01;31:*.lrz=01;31:*.lz=01;31:*.lzo=01;31:*.xz=01;31:*.zst=01;31:*.tzst=01;31:*.bz2=01;31:*.bz=01;31:*.tbz=01;31:*.tbz2=01;31:*.tz=01;31:*.deb=01;31:*.rpm=01;31:*.jar=01;31:*.war=01;31:*.ear=01;31:*.sar=01;31:*.rar=01;31:*.alz=01;31:*.ace=01;31:*.zoo=01;31:*.cpio=01;31:*.7z=01;31:*.rz=01;31:*.cab=01;31:*.wim=01;31:*.swm=01;31:*.dwm=01;31:*.esd=01;31:*.jpg=01;35:*.jpeg=01;35:*.mjpg=01;35:*.mjpeg=01;35:*.gif=01;35:*.bmp=01;35:*.pbm=01;35:*.pgm=01;35:*.ppm=01;35:*.tga=01;35:*.xbm=01;35:*.xpm=01;35:*.tif=01;35:*.tiff=01;35:*.png=01;35:*.svg=01;35:*.svgz=01;35:*.mng=01;35:*.pcx=01;35:*.mov=01;35:*.mpg=01;35:*.mpeg=01;35:*.m2v=01;35:*.mkv=01;35:*.webm=01;35:*.webp=01;35:*.ogm=01;35:*.mp4=01;35:*.m4v=01;35:*.mp4v=01;35:*.vob=01;35:*.qt=01;35:*.nuv=01;35:*.wmv=01;35:*.asf=01;35:*.rm=01;35:*.rmvb=01;35:*.flc=01;35:*.avi=01;35:*.fli=01;35:*.flv=01;35:*.gl=01;35:*.dl=01;35:*.xcf=01;35:*.xwd=01;35:*.yuv=01;35:*.cgm=01;35:*.emf=01;35:*.ogv=01;35:*.ogx=01;35:*.aac=00;36:*.au=00;36:*.flac=00;36:*.m4a=00;36:*.mid=00;36:*.midi=00;36:*.mka=00;36:*.mp3=00;36:*.mpc=00;36:*.ogg=00;36:*.ra=00;36:*.wav=00;36:*.oga=00;36:*.opus=00;36:*.spx=00;36:*.xspf=00;36:</pre></li> <li><pre>XDG_CURRENT_DESKTOP: ubuntu:GNOME</pre></li> <li><pre>VIRTUAL_ENV: /home/brian/FAIMS/3/FAIMS3-Jupyter-Exporter/.direnv/python-3.10.4</pre></li> <li><pre>VTE_VERSION: 6800</pre></li> <li><pre>ORACLE_HOME: /usr/lib/oracle/18.3/client64</pre></li> <li><pre>GNOME_TERMINAL_SCREEN: /org/gnome/Terminal/screen/591a033d_77dc_44e1_90e8_3f088dec498d</pre></li> <li><pre>DIRENV_DIFF: eJzsU01zqjwU_i9ZC8GhftSZLuKrWCxoEQrYDQMYEQpJDMEinf73d6xtr1Vn7uYuu4DkfDw5Z855njfAwOANPCLnHgwA3NACw4inIYFyTuMwh-Um5BgyworBjyjZFXCHeZlSUkJCVxju2n253ZEVGKXkR26RkjSmZBWq8OM4j8tsj8nuAhalBCbhz7IJZaHYXHEd0ZSJQwmBawEFrg9fsZbylFS11L25zLnohEeHTspNWpTnvVxLvNLyAFYlh5-zO7O_zT-Bj8vR_PYlYYHLU9ynoyQh-wR83y4XdlYzoSeeNIKUh3GOYbsvqzDOU0zE12BOntKQbtrHv-RQmpcQvLcAOTBlpC_GMzcY6QswANIlSD2eqjSt2F5gLo1rRrnAHLS-sB5y_rsf22AA8LQuG65tXxtkJXNNVXDz4mTMKHndth8mmvWgZV171DFElnhjzVOYY6-kwGo8p1sHQU_StF257G7dZlSUCto-tZtEwiSXUE_xb7e3fhqs3ZhXsRG8PG195LPnaOLaWcYIXw0jN5RwrykMJPLJvdRzPHfttf25p2InWzZqoZvdOjOQ3tfcvBrP4876ZtLUs2VtdhSTPE_n3ZGl9XrqUHB_orNiaGJqGbZfWcQS02o5FJ6p0Cymnduh84rUbX_fR-gxCJp4auro7g60rinvL4OE8irlB_axvdhQIqlyW5Evd_ir31_9nui3BR6XB_G544Wtz2dgAI68AS3g6gvnCRnBeOb-CyaC9_f_AwAA__-DySwi</pre></li> <li><pre>CLUTTER_IM_MODULE: fcitx</pre></li> <li><pre>NVM_DIR: /home/brian/.nvm</pre></li> <li><pre>LESSCLOSE: /usr/bin/lesspipe %s %s</pre></li> <li><pre>XDG_SESSION_CLASS: user</pre></li> <li><pre>TERM: xterm-color</pre></li> <li><pre>_CE_CONDA: </pre></li> <li><pre>LESSOPEN: | /usr/bin/lesspipe %s</pre></li> <li><pre>USER: brian</pre></li> <li><pre>GNOME_TERMINAL_SERVICE: :1.85</pre></li> <li><pre>CONDA_SHLVL: 0</pre></li> <li><pre>DISPLAY: :1</pre></li> <li><pre>SHLVL: 1</pre></li> <li><pre>NVM_CD_FLAGS: </pre></li> <li><pre>QT_IM_MODULE: fcitx</pre></li> <li><pre>CONDA_PYTHON_EXE: /home/brian/miniconda3/bin/python</pre></li> <li><pre>LD_LIBRARY_PATH: /usr/lib/oracle/18.3/client64/lib/</pre></li> <li><pre>XDG_RUNTIME_DIR: /run/user/1000</pre></li> <li><pre>PYENV_ROOT: /home/brian/.pyenv</pre></li> <li><pre>XDG_DATA_DIRS: /usr/share/ubuntu:/usr/share/gnome:/usr/local/share/:/usr/share/:/var/lib/snapd/desktop</pre></li> <li><pre>PATH: /home/brian/FAIMS/3/FAIMS3-Jupyter-Exporter/.direnv/python-3.10.4/bin:/home/brian/.local/share/pnpm:/home/brian/.nvm/versions/node/v18.15.0/bin:/home/brian/miniconda3/condabin:/home/brian/.pyenv/bin:/home/brian/bin/gam:/home/brian/gopath:/home/brian/gopath/bin:/opt/context/tex/texmf-linux-64/bin:/opt/context/bin:/home/brian/.rbenv/shims:/home/brian/bin:/home/brian/.rbenv/bin:/home/brian/bin:/usr/local/sbin:/usr/local/bin:/usr/sbin:/usr/bin:/sbin:/bin:/usr/games:/usr/local/games:/snap/bin:/snap/bin:/home/brian/.local/bin:/usr/local/go/bin:/usr/lib/oracle/18.3/client64/bin:/home/brian/FAIMS/FAIMS-Tools/</pre></li> <li><pre>GDMSESSION: ubuntu</pre></li> <li><pre>DBUS_SESSION_BUS_ADDRESS: unix:path=/run/user/1000/bus</pre></li> <li><pre>DIRENV_WATCHES: eJxszrFqwzAQgOF30ezkTjpLsrx1SKGFQKFj6SD5LtjgWEFW0pTSd-_QzWT6x__7-FFvsY6qVzDms0AqU1zg-enl-A70X9q9Xi_fVcrucL_kUqXAXpZbGVSjjpnrdBbVa-e7zmLAtlGH-7TWVfW1XOW3eTjYz3mIM6xjLAI8FVluEOc5f4GzxNYxM50MnZJO6DQF773BtrXGIpmBMeoQLSXuQnQtJuYBtWM0ojco59BTwA3q8y8AAP__zcJMIA==</pre></li> <li><pre>NVM_BIN: /home/brian/.nvm/versions/node/v18.15.0/bin</pre></li> <li><pre>OSFONTDIR: /home/brian/.fonts:/usr/share/fonts:/usr/share/texmf/fonts/opentype/</pre></li> <li><pre>OLDPWD: /home/brian/FAIMS/3</pre></li> <li><pre>GOPATH: /home/brian/gopath</pre></li> <li><pre>_: /home/brian/FAIMS/3/FAIMS3-Jupyter-Exporter/.direnv/python-3.10.4/bin/jupyter</pre></li> <li><pre>PYDEVD_USE_FRAME_EVAL: NO</pre></li> <li><pre>JPY_PARENT_PID: 200517</pre></li> <li><pre>CLICOLOR: 1</pre></li> <li><pre>FORCE_COLOR: 1</pre></li> <li><pre>CLICOLOR_FORCE: 1</pre></li> <li><pre>PAGER: cat</pre></li> <li><pre>GIT_PAGER: cat</pre></li> <li><pre>MPLBACKEND: module://matplotlib_inline.backend_inline</pre></li> <li><pre>GDAL_CURL_CA_BUNDLE: /home/brian/FAIMS/3/FAIMS3-Jupyter-Exporter/.direnv/python-3.10.4/lib/python3.10/site-packages/certifi/cacert.pem</pre></li> <li><pre>PROJ_CURL_CA_BUNDLE: /home/brian/FAIMS/3/FAIMS3-Jupyter-Exporter/.direnv/python-3.10.4/lib/python3.10/site-packages/certifi/cacert.pem</pre></li></ul></details>"
      ],
      "text/plain": [
       "<IPython.core.display.HTML object>"
      ]
     },
     "metadata": {},
     "output_type": "display_data"
    },
    {
     "data": {
      "application/vnd.jupyter.widget-view+json": {
       "model_id": "e6c835606557479c92c5a98ed25ef652",
       "version_major": 2,
       "version_minor": 0
      },
      "text/plain": [
       "Button(description='Show bearer token text field', layout=Layout(display='none'), style=ButtonStyle())"
      ]
     },
     "metadata": {},
     "output_type": "display_data"
    },
    {
     "data": {
      "application/vnd.jupyter.widget-view+json": {
       "model_id": "5a23063378bc411f9c74ce6d315c18cf",
       "version_major": 2,
       "version_minor": 0
      },
      "text/plain": [
       "Text(value='', description='Bearer Token:', placeholder='', style=TextStyle(description_width='initial'))"
      ]
     },
     "metadata": {},
     "output_type": "display_data"
    },
    {
     "data": {
      "application/vnd.jupyter.widget-view+json": {
       "model_id": "d361b17a5d8644a893d4a8a1e0922e24",
       "version_major": 2,
       "version_minor": 0
      },
      "text/plain": [
       "Button(description='Validate Bearer Token', icon='check', layout=Layout(height='50px', width='20%'), style=But…"
      ]
     },
     "metadata": {},
     "output_type": "display_data"
    },
    {
     "data": {
      "application/vnd.jupyter.widget-view+json": {
       "model_id": "57d69a0bf4fc4288bc9164c5ac51b01c",
       "version_major": 2,
       "version_minor": 0
      },
      "text/plain": [
       "Output(layout=Layout(border_bottom='0px solid black', border_left='0px solid black', border_right='0px solid b…"
      ]
     },
     "metadata": {},
     "output_type": "display_data"
    }
   ],
   "source": [
    "import os\n",
    "from urllib.parse import parse_qs\n",
    "#https://github.com/voila-dashboards/voila/blob/main/notebooks/query-strings.ipynb\n",
    "import interface\n",
    "\n",
    "from dotenv import dotenv_values\n",
    "\n",
    "\n",
    "config = dotenv_values(\".env\")  # config = {\"USER\": \"foo\", \"EMAIL\": \"foo@example.org\"}\n",
    "\n",
    "interface.make_interface()\n",
    "try:    \n",
    "    query_string = os.environ.get('QUERY_STRING', '')\n",
    "    parameters = parse_qs(query_string)\n",
    "    token = parameters.get(\"bearer_token_get\",[\"\"])[0] or os.getenv(\"TOKEN\") or config.get(\"TOKEN\", \"\")\n",
    "    interface.bearer_token.value=token\n",
    "except:\n",
    "    print(parameters)\n",
    "    "
   ]
  },
  {
   "cell_type": "code",
   "execution_count": null,
   "id": "18b645c4-b1df-43f0-87dd-acbd1596c2af",
   "metadata": {
    "tags": []
   },
   "outputs": [],
   "source": []
  },
  {
   "cell_type": "code",
   "execution_count": null,
   "id": "87b15b15-e70b-4b22-8a09-30ada7bd9182",
   "metadata": {},
   "outputs": [],
   "source": []
  }
 ],
 "metadata": {
  "kernelspec": {
   "display_name": "Python 3 (ipykernel)",
   "language": "python",
   "name": "python3"
  },
  "language_info": {
   "codemirror_mode": {
    "name": "ipython",
    "version": 3
   },
   "file_extension": ".py",
   "mimetype": "text/x-python",
   "name": "python",
   "nbconvert_exporter": "python",
   "pygments_lexer": "ipython3",
   "version": "3.10.4"
  }
 },
 "nbformat": 4,
 "nbformat_minor": 5
}
